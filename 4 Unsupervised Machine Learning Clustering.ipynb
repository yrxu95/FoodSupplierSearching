{
 "cells": [
  {
   "cell_type": "markdown",
   "id": "70d5a61a",
   "metadata": {},
   "source": [
    "# Import libs and data"
   ]
  },
  {
   "cell_type": "code",
   "execution_count": 1,
   "id": "201702c9",
   "metadata": {},
   "outputs": [],
   "source": [
    "import numpy as np\n",
    "import pandas as pd\n",
    "import matplotlib\n",
    "import matplotlib.pyplot as plt\n",
    "import seaborn as sns\n",
    "import sklearn\n",
    "from sklearn.cluster import KMeans\n",
    "import pylab as pl"
   ]
  },
  {
   "cell_type": "code",
   "execution_count": 2,
   "id": "4eb63621",
   "metadata": {},
   "outputs": [],
   "source": [
    "df = pd.read_csv(r'/Users/r1121/Desktop/CF/11-2023Food Price Project/Data/Modified/egg_price_eu.csv', index_col=0)"
   ]
  },
  {
   "cell_type": "code",
   "execution_count": 3,
   "id": "111de31a",
   "metadata": {},
   "outputs": [
    {
     "data": {
      "text/html": [
       "<div>\n",
       "<style scoped>\n",
       "    .dataframe tbody tr th:only-of-type {\n",
       "        vertical-align: middle;\n",
       "    }\n",
       "\n",
       "    .dataframe tbody tr th {\n",
       "        vertical-align: top;\n",
       "    }\n",
       "\n",
       "    .dataframe thead th {\n",
       "        text-align: right;\n",
       "    }\n",
       "</style>\n",
       "<table border=\"1\" class=\"dataframe\">\n",
       "  <thead>\n",
       "    <tr style=\"text-align: right;\">\n",
       "      <th></th>\n",
       "      <th>_id</th>\n",
       "      <th>country</th>\n",
       "      <th>food_type</th>\n",
       "      <th>baseline_local</th>\n",
       "      <th>local_price</th>\n",
       "      <th>variation_local</th>\n",
       "      <th>local_currency</th>\n",
       "      <th>local_range</th>\n",
       "      <th>date</th>\n",
       "    </tr>\n",
       "  </thead>\n",
       "  <tbody>\n",
       "    <tr>\n",
       "      <th>217</th>\n",
       "      <td>218</td>\n",
       "      <td>Martinique</td>\n",
       "      <td>Hen eggs in shell (12)</td>\n",
       "      <td>3.94</td>\n",
       "      <td>4.25</td>\n",
       "      <td>7.87</td>\n",
       "      <td>€</td>\n",
       "      <td>2.97-4.85</td>\n",
       "      <td>2020-07-19</td>\n",
       "    </tr>\n",
       "    <tr>\n",
       "      <th>416</th>\n",
       "      <td>417</td>\n",
       "      <td>Andorra</td>\n",
       "      <td>Hen eggs in shell (12)</td>\n",
       "      <td>2.35</td>\n",
       "      <td>2.52</td>\n",
       "      <td>7.23</td>\n",
       "      <td>€</td>\n",
       "      <td>1.50-3.60</td>\n",
       "      <td>2020-07-19</td>\n",
       "    </tr>\n",
       "    <tr>\n",
       "      <th>792</th>\n",
       "      <td>793</td>\n",
       "      <td>Martinique</td>\n",
       "      <td>Hen eggs in shell (12)</td>\n",
       "      <td>3.94</td>\n",
       "      <td>3.94</td>\n",
       "      <td>0.00</td>\n",
       "      <td>€</td>\n",
       "      <td>2.97-4.85</td>\n",
       "      <td>2020-04-05</td>\n",
       "    </tr>\n",
       "    <tr>\n",
       "      <th>819</th>\n",
       "      <td>820</td>\n",
       "      <td>Andorra</td>\n",
       "      <td>Hen eggs in shell (12)</td>\n",
       "      <td>2.35</td>\n",
       "      <td>2.35</td>\n",
       "      <td>0.00</td>\n",
       "      <td>€</td>\n",
       "      <td>1.50-3.60</td>\n",
       "      <td>2020-04-05</td>\n",
       "    </tr>\n",
       "    <tr>\n",
       "      <th>928</th>\n",
       "      <td>929</td>\n",
       "      <td>Martinique</td>\n",
       "      <td>Hen eggs in shell (12)</td>\n",
       "      <td>3.94</td>\n",
       "      <td>4.25</td>\n",
       "      <td>7.87</td>\n",
       "      <td>€</td>\n",
       "      <td>2.97-4.85</td>\n",
       "      <td>2021-04-04</td>\n",
       "    </tr>\n",
       "  </tbody>\n",
       "</table>\n",
       "</div>"
      ],
      "text/plain": [
       "     _id     country               food_type  baseline_local  local_price  \\\n",
       "217  218  Martinique  Hen eggs in shell (12)            3.94         4.25   \n",
       "416  417     Andorra  Hen eggs in shell (12)            2.35         2.52   \n",
       "792  793  Martinique  Hen eggs in shell (12)            3.94         3.94   \n",
       "819  820     Andorra  Hen eggs in shell (12)            2.35         2.35   \n",
       "928  929  Martinique  Hen eggs in shell (12)            3.94         4.25   \n",
       "\n",
       "     variation_local local_currency local_range        date  \n",
       "217             7.87              €   2.97-4.85  2020-07-19  \n",
       "416             7.23              €   1.50-3.60  2020-07-19  \n",
       "792             0.00              €   2.97-4.85  2020-04-05  \n",
       "819             0.00              €   1.50-3.60  2020-04-05  \n",
       "928             7.87              €   2.97-4.85  2021-04-04  "
      ]
     },
     "execution_count": 3,
     "metadata": {},
     "output_type": "execute_result"
    }
   ],
   "source": [
    "df.head()"
   ]
  },
  {
   "cell_type": "markdown",
   "id": "57e88dca",
   "metadata": {},
   "source": [
    "# Reprocess data to meet k-means algorithm"
   ]
  },
  {
   "cell_type": "code",
   "execution_count": 4,
   "id": "98dbe97c",
   "metadata": {},
   "outputs": [],
   "source": [
    "# Remove categorical columns and non-related columns\n",
    "df_ee = df.drop(columns = ['_id','country','food_type','local_currency','local_range','date'])"
   ]
  },
  {
   "cell_type": "code",
   "execution_count": 5,
   "id": "6f23c873",
   "metadata": {},
   "outputs": [
    {
     "data": {
      "text/plain": [
       "Index(['baseline_local', 'local_price', 'variation_local'], dtype='object')"
      ]
     },
     "execution_count": 5,
     "metadata": {},
     "output_type": "execute_result"
    }
   ],
   "source": [
    "df_ee.columns"
   ]
  },
  {
   "cell_type": "markdown",
   "id": "9c981e40",
   "metadata": {},
   "source": [
    "# kmeans algorithm"
   ]
  },
  {
   "cell_type": "markdown",
   "id": "1adb70d8",
   "metadata": {},
   "source": [
    "## The elbow technique"
   ]
  },
  {
   "cell_type": "code",
   "execution_count": 6,
   "id": "ce6c1a90",
   "metadata": {},
   "outputs": [],
   "source": [
    "num_cl = range(1,10)\n",
    "kmeans = [KMeans(n_clusters = i) for i in num_cl]"
   ]
  },
  {
   "cell_type": "code",
   "execution_count": 7,
   "id": "9a102929",
   "metadata": {},
   "outputs": [
    {
     "data": {
      "text/plain": [
       "[-20489.1185822511,\n",
       " -11509.974118612075,\n",
       " -5250.441661454973,\n",
       " -2865.836532265713,\n",
       " -1899.5523127892477,\n",
       " -1485.5648291418938,\n",
       " -1154.0443081625606,\n",
       " -963.240266159505,\n",
       " -828.6830069662686]"
      ]
     },
     "execution_count": 7,
     "metadata": {},
     "output_type": "execute_result"
    }
   ],
   "source": [
    "score = [kmeans[i].fit(df_ee).score(df_ee) for i in range(len(kmeans))]\n",
    "score"
   ]
  },
  {
   "cell_type": "code",
   "execution_count": 8,
   "id": "3a9b3abd",
   "metadata": {},
   "outputs": [
    {
     "data": {
      "image/png": "[encoded data removed]",
      "text/plain": [
       "<Figure size 432x288 with 1 Axes>"
      ]
     },
     "metadata": {
      "needs_background": "light"
     },
     "output_type": "display_data"
    }
   ],
   "source": [
    "# Plot the elbow curve using PyLab.\n",
    "\n",
    "pl.plot(num_cl,score)\n",
    "pl.xlabel('Number of Clusters')\n",
    "pl.ylabel('Score')\n",
    "pl.title('Elbow Curve')\n",
    "pl.show()"
   ]
  },
  {
   "cell_type": "markdown",
   "id": "2cc566a3",
   "metadata": {},
   "source": [
    "In the graph above, the optimal clusters number could be 4."
   ]
  },
  {
   "cell_type": "markdown",
   "id": "9154ebff",
   "metadata": {},
   "source": [
    "# kmeans clusters"
   ]
  },
  {
   "cell_type": "code",
   "execution_count": 9,
   "id": "30597932",
   "metadata": {},
   "outputs": [],
   "source": [
    "kmeans = KMeans(n_clusters = 4) "
   ]
  },
  {
   "cell_type": "code",
   "execution_count": 10,
   "id": "df51a85c",
   "metadata": {},
   "outputs": [
    {
     "data": {
      "text/plain": [
       "KMeans(n_clusters=4)"
      ]
     },
     "execution_count": 10,
     "metadata": {},
     "output_type": "execute_result"
    }
   ],
   "source": [
    "kmeans.fit(df_ee)"
   ]
  },
  {
   "cell_type": "code",
   "execution_count": 11,
   "id": "509c92a0",
   "metadata": {},
   "outputs": [],
   "source": [
    "df_ee['clusters'] = kmeans.fit_predict(df_ee)"
   ]
  },
  {
   "cell_type": "code",
   "execution_count": 12,
   "id": "d7599701",
   "metadata": {},
   "outputs": [
    {
     "data": {
      "text/html": [
       "<div>\n",
       "<style scoped>\n",
       "    .dataframe tbody tr th:only-of-type {\n",
       "        vertical-align: middle;\n",
       "    }\n",
       "\n",
       "    .dataframe tbody tr th {\n",
       "        vertical-align: top;\n",
       "    }\n",
       "\n",
       "    .dataframe thead th {\n",
       "        text-align: right;\n",
       "    }\n",
       "</style>\n",
       "<table border=\"1\" class=\"dataframe\">\n",
       "  <thead>\n",
       "    <tr style=\"text-align: right;\">\n",
       "      <th></th>\n",
       "      <th>baseline_local</th>\n",
       "      <th>local_price</th>\n",
       "      <th>variation_local</th>\n",
       "      <th>clusters</th>\n",
       "    </tr>\n",
       "  </thead>\n",
       "  <tbody>\n",
       "    <tr>\n",
       "      <th>217</th>\n",
       "      <td>3.94</td>\n",
       "      <td>4.25</td>\n",
       "      <td>7.87</td>\n",
       "      <td>0</td>\n",
       "    </tr>\n",
       "    <tr>\n",
       "      <th>416</th>\n",
       "      <td>2.35</td>\n",
       "      <td>2.52</td>\n",
       "      <td>7.23</td>\n",
       "      <td>0</td>\n",
       "    </tr>\n",
       "    <tr>\n",
       "      <th>792</th>\n",
       "      <td>3.94</td>\n",
       "      <td>3.94</td>\n",
       "      <td>0.00</td>\n",
       "      <td>1</td>\n",
       "    </tr>\n",
       "    <tr>\n",
       "      <th>819</th>\n",
       "      <td>2.35</td>\n",
       "      <td>2.35</td>\n",
       "      <td>0.00</td>\n",
       "      <td>1</td>\n",
       "    </tr>\n",
       "    <tr>\n",
       "      <th>928</th>\n",
       "      <td>3.94</td>\n",
       "      <td>4.25</td>\n",
       "      <td>7.87</td>\n",
       "      <td>0</td>\n",
       "    </tr>\n",
       "  </tbody>\n",
       "</table>\n",
       "</div>"
      ],
      "text/plain": [
       "     baseline_local  local_price  variation_local  clusters\n",
       "217            3.94         4.25             7.87         0\n",
       "416            2.35         2.52             7.23         0\n",
       "792            3.94         3.94             0.00         1\n",
       "819            2.35         2.35             0.00         1\n",
       "928            3.94         4.25             7.87         0"
      ]
     },
     "execution_count": 12,
     "metadata": {},
     "output_type": "execute_result"
    }
   ],
   "source": [
    "df_ee.head()"
   ]
  },
  {
   "cell_type": "code",
   "execution_count": 13,
   "id": "22078a5b",
   "metadata": {},
   "outputs": [
    {
     "data": {
      "text/plain": [
       "1    225\n",
       "0    197\n",
       "2     31\n",
       "3      9\n",
       "Name: clusters, dtype: int64"
      ]
     },
     "execution_count": 13,
     "metadata": {},
     "output_type": "execute_result"
    }
   ],
   "source": [
    "df_ee['clusters'].value_counts()"
   ]
  },
  {
   "cell_type": "code",
   "execution_count": 14,
   "id": "5e3293bc",
   "metadata": {},
   "outputs": [
    {
     "data": {
      "image/png": "[encoded data removed]",
      "text/plain": [
       "<Figure size 432x288 with 1 Axes>"
      ]
     },
     "metadata": {
      "needs_background": "light"
     },
     "output_type": "display_data"
    }
   ],
   "source": [
    "# Plot the clusters for the \"variation_local\" and \"local_price\" variables.\n",
    "\n",
    "ax = sns.scatterplot(x=df_ee['local_price'], y=df_ee['variation_local'], hue=kmeans.labels_, s=100) \n",
    "\n",
    "ax.grid(False) # This removes the grid from the background."
   ]
  },
  {
   "cell_type": "code",
   "execution_count": 15,
   "id": "7fc76dd8",
   "metadata": {},
   "outputs": [
    {
     "data": {
      "text/html": [
       "<div>\n",
       "<style scoped>\n",
       "    .dataframe tbody tr th:only-of-type {\n",
       "        vertical-align: middle;\n",
       "    }\n",
       "\n",
       "    .dataframe tbody tr th {\n",
       "        vertical-align: top;\n",
       "    }\n",
       "\n",
       "    .dataframe thead tr th {\n",
       "        text-align: left;\n",
       "    }\n",
       "\n",
       "    .dataframe thead tr:last-of-type th {\n",
       "        text-align: right;\n",
       "    }\n",
       "</style>\n",
       "<table border=\"1\" class=\"dataframe\">\n",
       "  <thead>\n",
       "    <tr>\n",
       "      <th></th>\n",
       "      <th colspan=\"2\" halign=\"left\">baseline_local</th>\n",
       "      <th colspan=\"2\" halign=\"left\">local_price</th>\n",
       "      <th colspan=\"2\" halign=\"left\">variation_local</th>\n",
       "    </tr>\n",
       "    <tr>\n",
       "      <th></th>\n",
       "      <th>mean</th>\n",
       "      <th>median</th>\n",
       "      <th>mean</th>\n",
       "      <th>median</th>\n",
       "      <th>mean</th>\n",
       "      <th>median</th>\n",
       "    </tr>\n",
       "    <tr>\n",
       "      <th>clusters</th>\n",
       "      <th></th>\n",
       "      <th></th>\n",
       "      <th></th>\n",
       "      <th></th>\n",
       "      <th></th>\n",
       "      <th></th>\n",
       "    </tr>\n",
       "  </thead>\n",
       "  <tbody>\n",
       "    <tr>\n",
       "      <th>0</th>\n",
       "      <td>2.392944</td>\n",
       "      <td>2.35</td>\n",
       "      <td>2.576853</td>\n",
       "      <td>2.52</td>\n",
       "      <td>7.809137</td>\n",
       "      <td>7.87</td>\n",
       "    </tr>\n",
       "    <tr>\n",
       "      <th>1</th>\n",
       "      <td>2.304622</td>\n",
       "      <td>2.29</td>\n",
       "      <td>2.338356</td>\n",
       "      <td>2.37</td>\n",
       "      <td>1.407778</td>\n",
       "      <td>1.97</td>\n",
       "    </tr>\n",
       "    <tr>\n",
       "      <th>2</th>\n",
       "      <td>2.460645</td>\n",
       "      <td>2.25</td>\n",
       "      <td>2.897419</td>\n",
       "      <td>2.55</td>\n",
       "      <td>17.818065</td>\n",
       "      <td>17.85</td>\n",
       "    </tr>\n",
       "    <tr>\n",
       "      <th>3</th>\n",
       "      <td>3.780000</td>\n",
       "      <td>3.78</td>\n",
       "      <td>2.836667</td>\n",
       "      <td>2.94</td>\n",
       "      <td>-24.953333</td>\n",
       "      <td>-22.22</td>\n",
       "    </tr>\n",
       "  </tbody>\n",
       "</table>\n",
       "</div>"
      ],
      "text/plain": [
       "         baseline_local        local_price        variation_local       \n",
       "                   mean median        mean median            mean median\n",
       "clusters                                                                \n",
       "0              2.392944   2.35    2.576853   2.52        7.809137   7.87\n",
       "1              2.304622   2.29    2.338356   2.37        1.407778   1.97\n",
       "2              2.460645   2.25    2.897419   2.55       17.818065  17.85\n",
       "3              3.780000   3.78    2.836667   2.94      -24.953333 -22.22"
      ]
     },
     "execution_count": 15,
     "metadata": {},
     "output_type": "execute_result"
    }
   ],
   "source": [
    "df_ee.groupby('clusters').agg({'baseline_local':['mean', 'median'], \n",
    "                         'local_price':['mean', 'median'], \n",
    "                         'variation_local':['mean', 'median']})"
   ]
  },
  {
   "cell_type": "markdown",
   "id": "4f330d06",
   "metadata": {},
   "source": [
    "# Thoughts about clusters"
   ]
  },
  {
   "cell_type": "markdown",
   "id": "4b97be1e",
   "metadata": {},
   "source": [
    "## Clusters graph in local price and variation is clear but cannot explain the situation. Perhaps we should try another algorithm to figure their relationship."
   ]
  },
  {
   "cell_type": "code",
   "execution_count": 16,
   "id": "93af67ac",
   "metadata": {},
   "outputs": [],
   "source": [
    "#export the dataset with clusters.\n",
    "df_ee.to_csv(r'/Users/r1121/Desktop/CF/11-2023Food Price Project/Data/Modified/egg_price_eu_cluster.csv')"
   ]
  },
  {
   "cell_type": "code",
   "execution_count": null,
   "id": "ef9d48b3",
   "metadata": {},
   "outputs": [],
   "source": []
  }
 ],
 "metadata": {
  "kernelspec": {
   "display_name": "Python 3 (ipykernel)",
   "language": "python",
   "name": "python3"
  },
  "language_info": {
   "codemirror_mode": {
    "name": "ipython",
    "version": 3
   },
   "file_extension": ".py",
   "mimetype": "text/x-python",
   "name": "python",
   "nbconvert_exporter": "python",
   "pygments_lexer": "ipython3",
   "version": "3.9.7"
  }
 },
 "nbformat": 4,
 "nbformat_minor": 5
}
