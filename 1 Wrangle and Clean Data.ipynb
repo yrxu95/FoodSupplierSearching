{
 "cells": [
  {
   "cell_type": "code",
   "execution_count": 1,
   "id": "1e6cf731",
   "metadata": {},
   "outputs": [],
   "source": [
    "# import library and data\n",
    "import numpy as np\n",
    "import pandas as pd\n",
    "import os"
   ]
  },
  {
   "cell_type": "code",
   "execution_count": 2,
   "id": "637142e4",
   "metadata": {},
   "outputs": [],
   "source": [
    "df = pd.read_csv(r'/Users/r1121/Desktop/CF/11-2023Food Price Project/Data/Original/food_price_global.csv')"
   ]
  },
  {
   "cell_type": "code",
   "execution_count": 3,
   "id": "b2682b01",
   "metadata": {},
   "outputs": [
    {
     "data": {
      "text/html": [
       "<div>\n",
       "<style scoped>\n",
       "    .dataframe tbody tr th:only-of-type {\n",
       "        vertical-align: middle;\n",
       "    }\n",
       "\n",
       "    .dataframe tbody tr th {\n",
       "        vertical-align: top;\n",
       "    }\n",
       "\n",
       "    .dataframe thead th {\n",
       "        text-align: right;\n",
       "    }\n",
       "</style>\n",
       "<table border=\"1\" class=\"dataframe\">\n",
       "  <thead>\n",
       "    <tr style=\"text-align: right;\">\n",
       "      <th></th>\n",
       "      <th>_id</th>\n",
       "      <th>country</th>\n",
       "      <th>iso3</th>\n",
       "      <th>label</th>\n",
       "      <th>baseline_local</th>\n",
       "      <th>local_price</th>\n",
       "      <th>variation_local</th>\n",
       "      <th>local_currency</th>\n",
       "      <th>local_range</th>\n",
       "      <th>Date</th>\n",
       "    </tr>\n",
       "  </thead>\n",
       "  <tbody>\n",
       "    <tr>\n",
       "      <th>0</th>\n",
       "      <td>1</td>\n",
       "      <td>Isle Of Man</td>\n",
       "      <td>IMN</td>\n",
       "      <td>Bread and other bakers wares (1kg)</td>\n",
       "      <td>2.80</td>\n",
       "      <td>2.89</td>\n",
       "      <td>3.21</td>\n",
       "      <td>£</td>\n",
       "      <td>1.61-3.99</td>\n",
       "      <td>2020-07-19T00:00:00</td>\n",
       "    </tr>\n",
       "    <tr>\n",
       "      <th>1</th>\n",
       "      <td>2</td>\n",
       "      <td>Marshall Islands</td>\n",
       "      <td>MHL</td>\n",
       "      <td>Meat of chickens, fresh or chilled (1kg)</td>\n",
       "      <td>4.45</td>\n",
       "      <td>4.45</td>\n",
       "      <td>0.00</td>\n",
       "      <td>$</td>\n",
       "      <td>4.41-4.5</td>\n",
       "      <td>2020-07-19T00:00:00</td>\n",
       "    </tr>\n",
       "    <tr>\n",
       "      <th>2</th>\n",
       "      <td>3</td>\n",
       "      <td>Timor-Leste</td>\n",
       "      <td>TLS</td>\n",
       "      <td>Rice (1kg)</td>\n",
       "      <td>1.88</td>\n",
       "      <td>1.92</td>\n",
       "      <td>2.13</td>\n",
       "      <td>$</td>\n",
       "      <td>0.75-3</td>\n",
       "      <td>2020-07-19T00:00:00</td>\n",
       "    </tr>\n",
       "    <tr>\n",
       "      <th>3</th>\n",
       "      <td>4</td>\n",
       "      <td>Burkina Faso</td>\n",
       "      <td>BFA</td>\n",
       "      <td>Potatoes (1kg)</td>\n",
       "      <td>682.00</td>\n",
       "      <td>682.00</td>\n",
       "      <td>0.00</td>\n",
       "      <td>CFA</td>\n",
       "      <td>600.01-763.99</td>\n",
       "      <td>2020-07-19T00:00:00</td>\n",
       "    </tr>\n",
       "    <tr>\n",
       "      <th>4</th>\n",
       "      <td>5</td>\n",
       "      <td>Angola</td>\n",
       "      <td>AGO</td>\n",
       "      <td>Meat of cattle, fresh or chilled (1kg)</td>\n",
       "      <td>10.84</td>\n",
       "      <td>12.43</td>\n",
       "      <td>14.67</td>\n",
       "      <td>$</td>\n",
       "      <td>9.68-15.61</td>\n",
       "      <td>2020-07-19T00:00:00</td>\n",
       "    </tr>\n",
       "  </tbody>\n",
       "</table>\n",
       "</div>"
      ],
      "text/plain": [
       "   _id           country iso3                                     label  \\\n",
       "0    1       Isle Of Man  IMN        Bread and other bakers wares (1kg)   \n",
       "1    2  Marshall Islands  MHL  Meat of chickens, fresh or chilled (1kg)   \n",
       "2    3       Timor-Leste  TLS                                Rice (1kg)   \n",
       "3    4      Burkina Faso  BFA                            Potatoes (1kg)   \n",
       "4    5            Angola  AGO    Meat of cattle, fresh or chilled (1kg)   \n",
       "\n",
       "   baseline_local  local_price  variation_local local_currency    local_range  \\\n",
       "0            2.80         2.89             3.21              £      1.61-3.99   \n",
       "1            4.45         4.45             0.00              $       4.41-4.5   \n",
       "2            1.88         1.92             2.13              $         0.75-3   \n",
       "3          682.00       682.00             0.00            CFA  600.01-763.99   \n",
       "4           10.84        12.43            14.67              $     9.68-15.61   \n",
       "\n",
       "                  Date  \n",
       "0  2020-07-19T00:00:00  \n",
       "1  2020-07-19T00:00:00  \n",
       "2  2020-07-19T00:00:00  \n",
       "3  2020-07-19T00:00:00  \n",
       "4  2020-07-19T00:00:00  "
      ]
     },
     "execution_count": 3,
     "metadata": {},
     "output_type": "execute_result"
    }
   ],
   "source": [
    "df.head()"
   ]
  },
  {
   "cell_type": "code",
   "execution_count": 4,
   "id": "a260e4cd",
   "metadata": {},
   "outputs": [
    {
     "name": "stdout",
     "output_type": "stream",
     "text": [
      "<class 'pandas.core.frame.DataFrame'>\n",
      "RangeIndex: 50000 entries, 0 to 49999\n",
      "Data columns (total 10 columns):\n",
      " #   Column           Non-Null Count  Dtype  \n",
      "---  ------           --------------  -----  \n",
      " 0   _id              50000 non-null  int64  \n",
      " 1   country          50000 non-null  object \n",
      " 2   iso3             50000 non-null  object \n",
      " 3   label            50000 non-null  object \n",
      " 4   baseline_local   50000 non-null  float64\n",
      " 5   local_price      50000 non-null  float64\n",
      " 6   variation_local  50000 non-null  float64\n",
      " 7   local_currency   50000 non-null  object \n",
      " 8   local_range      50000 non-null  object \n",
      " 9   Date             50000 non-null  object \n",
      "dtypes: float64(3), int64(1), object(6)\n",
      "memory usage: 3.8+ MB\n"
     ]
    }
   ],
   "source": [
    "df.info()"
   ]
  },
  {
   "cell_type": "code",
   "execution_count": 5,
   "id": "e73195d4",
   "metadata": {},
   "outputs": [],
   "source": [
    "# drop non-informative columns\n",
    "df_drop = df.drop(columns = ['iso3'])"
   ]
  },
  {
   "cell_type": "code",
   "execution_count": 6,
   "id": "5c3379b2",
   "metadata": {},
   "outputs": [
    {
     "data": {
      "text/plain": [
       "Index(['_id', 'country', 'label', 'baseline_local', 'local_price',\n",
       "       'variation_local', 'local_currency', 'local_range', 'Date'],\n",
       "      dtype='object')"
      ]
     },
     "execution_count": 6,
     "metadata": {},
     "output_type": "execute_result"
    }
   ],
   "source": [
    "df_drop.columns"
   ]
  },
  {
   "cell_type": "code",
   "execution_count": 7,
   "id": "0c6d2463",
   "metadata": {},
   "outputs": [],
   "source": [
    "# rename 'label' column\n",
    "df_drop.rename(columns = {'label':'food_type'}, inplace = True)"
   ]
  },
  {
   "cell_type": "code",
   "execution_count": 8,
   "id": "c7c82462",
   "metadata": {},
   "outputs": [
    {
     "data": {
      "text/html": [
       "<div>\n",
       "<style scoped>\n",
       "    .dataframe tbody tr th:only-of-type {\n",
       "        vertical-align: middle;\n",
       "    }\n",
       "\n",
       "    .dataframe tbody tr th {\n",
       "        vertical-align: top;\n",
       "    }\n",
       "\n",
       "    .dataframe thead th {\n",
       "        text-align: right;\n",
       "    }\n",
       "</style>\n",
       "<table border=\"1\" class=\"dataframe\">\n",
       "  <thead>\n",
       "    <tr style=\"text-align: right;\">\n",
       "      <th></th>\n",
       "      <th>_id</th>\n",
       "      <th>country</th>\n",
       "      <th>food_type</th>\n",
       "      <th>baseline_local</th>\n",
       "      <th>local_price</th>\n",
       "      <th>variation_local</th>\n",
       "      <th>local_currency</th>\n",
       "      <th>local_range</th>\n",
       "      <th>Date</th>\n",
       "    </tr>\n",
       "  </thead>\n",
       "  <tbody>\n",
       "    <tr>\n",
       "      <th>0</th>\n",
       "      <td>1</td>\n",
       "      <td>Isle Of Man</td>\n",
       "      <td>Bread and other bakers wares (1kg)</td>\n",
       "      <td>2.80</td>\n",
       "      <td>2.89</td>\n",
       "      <td>3.21</td>\n",
       "      <td>£</td>\n",
       "      <td>1.61-3.99</td>\n",
       "      <td>2020-07-19T00:00:00</td>\n",
       "    </tr>\n",
       "    <tr>\n",
       "      <th>1</th>\n",
       "      <td>2</td>\n",
       "      <td>Marshall Islands</td>\n",
       "      <td>Meat of chickens, fresh or chilled (1kg)</td>\n",
       "      <td>4.45</td>\n",
       "      <td>4.45</td>\n",
       "      <td>0.00</td>\n",
       "      <td>$</td>\n",
       "      <td>4.41-4.5</td>\n",
       "      <td>2020-07-19T00:00:00</td>\n",
       "    </tr>\n",
       "    <tr>\n",
       "      <th>2</th>\n",
       "      <td>3</td>\n",
       "      <td>Timor-Leste</td>\n",
       "      <td>Rice (1kg)</td>\n",
       "      <td>1.88</td>\n",
       "      <td>1.92</td>\n",
       "      <td>2.13</td>\n",
       "      <td>$</td>\n",
       "      <td>0.75-3</td>\n",
       "      <td>2020-07-19T00:00:00</td>\n",
       "    </tr>\n",
       "    <tr>\n",
       "      <th>3</th>\n",
       "      <td>4</td>\n",
       "      <td>Burkina Faso</td>\n",
       "      <td>Potatoes (1kg)</td>\n",
       "      <td>682.00</td>\n",
       "      <td>682.00</td>\n",
       "      <td>0.00</td>\n",
       "      <td>CFA</td>\n",
       "      <td>600.01-763.99</td>\n",
       "      <td>2020-07-19T00:00:00</td>\n",
       "    </tr>\n",
       "    <tr>\n",
       "      <th>4</th>\n",
       "      <td>5</td>\n",
       "      <td>Angola</td>\n",
       "      <td>Meat of cattle, fresh or chilled (1kg)</td>\n",
       "      <td>10.84</td>\n",
       "      <td>12.43</td>\n",
       "      <td>14.67</td>\n",
       "      <td>$</td>\n",
       "      <td>9.68-15.61</td>\n",
       "      <td>2020-07-19T00:00:00</td>\n",
       "    </tr>\n",
       "  </tbody>\n",
       "</table>\n",
       "</div>"
      ],
      "text/plain": [
       "   _id           country                                 food_type  \\\n",
       "0    1       Isle Of Man        Bread and other bakers wares (1kg)   \n",
       "1    2  Marshall Islands  Meat of chickens, fresh or chilled (1kg)   \n",
       "2    3       Timor-Leste                                Rice (1kg)   \n",
       "3    4      Burkina Faso                            Potatoes (1kg)   \n",
       "4    5            Angola    Meat of cattle, fresh or chilled (1kg)   \n",
       "\n",
       "   baseline_local  local_price  variation_local local_currency    local_range  \\\n",
       "0            2.80         2.89             3.21              £      1.61-3.99   \n",
       "1            4.45         4.45             0.00              $       4.41-4.5   \n",
       "2            1.88         1.92             2.13              $         0.75-3   \n",
       "3          682.00       682.00             0.00            CFA  600.01-763.99   \n",
       "4           10.84        12.43            14.67              $     9.68-15.61   \n",
       "\n",
       "                  Date  \n",
       "0  2020-07-19T00:00:00  \n",
       "1  2020-07-19T00:00:00  \n",
       "2  2020-07-19T00:00:00  \n",
       "3  2020-07-19T00:00:00  \n",
       "4  2020-07-19T00:00:00  "
      ]
     },
     "execution_count": 8,
     "metadata": {},
     "output_type": "execute_result"
    }
   ],
   "source": [
    "df_drop.head()"
   ]
  },
  {
   "cell_type": "code",
   "execution_count": 9,
   "id": "932d84fe",
   "metadata": {},
   "outputs": [],
   "source": [
    "# extract date from 'Date'column.\n",
    "\n",
    "df_drop['date'] = df_drop['Date'].str[:10]"
   ]
  },
  {
   "cell_type": "code",
   "execution_count": 10,
   "id": "b69b0219",
   "metadata": {},
   "outputs": [
    {
     "data": {
      "text/html": [
       "<div>\n",
       "<style scoped>\n",
       "    .dataframe tbody tr th:only-of-type {\n",
       "        vertical-align: middle;\n",
       "    }\n",
       "\n",
       "    .dataframe tbody tr th {\n",
       "        vertical-align: top;\n",
       "    }\n",
       "\n",
       "    .dataframe thead th {\n",
       "        text-align: right;\n",
       "    }\n",
       "</style>\n",
       "<table border=\"1\" class=\"dataframe\">\n",
       "  <thead>\n",
       "    <tr style=\"text-align: right;\">\n",
       "      <th></th>\n",
       "      <th>_id</th>\n",
       "      <th>country</th>\n",
       "      <th>food_type</th>\n",
       "      <th>baseline_local</th>\n",
       "      <th>local_price</th>\n",
       "      <th>variation_local</th>\n",
       "      <th>local_currency</th>\n",
       "      <th>local_range</th>\n",
       "      <th>Date</th>\n",
       "      <th>date</th>\n",
       "    </tr>\n",
       "  </thead>\n",
       "  <tbody>\n",
       "    <tr>\n",
       "      <th>0</th>\n",
       "      <td>1</td>\n",
       "      <td>Isle Of Man</td>\n",
       "      <td>Bread and other bakers wares (1kg)</td>\n",
       "      <td>2.80</td>\n",
       "      <td>2.89</td>\n",
       "      <td>3.21</td>\n",
       "      <td>£</td>\n",
       "      <td>1.61-3.99</td>\n",
       "      <td>2020-07-19T00:00:00</td>\n",
       "      <td>2020-07-19</td>\n",
       "    </tr>\n",
       "    <tr>\n",
       "      <th>1</th>\n",
       "      <td>2</td>\n",
       "      <td>Marshall Islands</td>\n",
       "      <td>Meat of chickens, fresh or chilled (1kg)</td>\n",
       "      <td>4.45</td>\n",
       "      <td>4.45</td>\n",
       "      <td>0.00</td>\n",
       "      <td>$</td>\n",
       "      <td>4.41-4.5</td>\n",
       "      <td>2020-07-19T00:00:00</td>\n",
       "      <td>2020-07-19</td>\n",
       "    </tr>\n",
       "    <tr>\n",
       "      <th>2</th>\n",
       "      <td>3</td>\n",
       "      <td>Timor-Leste</td>\n",
       "      <td>Rice (1kg)</td>\n",
       "      <td>1.88</td>\n",
       "      <td>1.92</td>\n",
       "      <td>2.13</td>\n",
       "      <td>$</td>\n",
       "      <td>0.75-3</td>\n",
       "      <td>2020-07-19T00:00:00</td>\n",
       "      <td>2020-07-19</td>\n",
       "    </tr>\n",
       "    <tr>\n",
       "      <th>3</th>\n",
       "      <td>4</td>\n",
       "      <td>Burkina Faso</td>\n",
       "      <td>Potatoes (1kg)</td>\n",
       "      <td>682.00</td>\n",
       "      <td>682.00</td>\n",
       "      <td>0.00</td>\n",
       "      <td>CFA</td>\n",
       "      <td>600.01-763.99</td>\n",
       "      <td>2020-07-19T00:00:00</td>\n",
       "      <td>2020-07-19</td>\n",
       "    </tr>\n",
       "    <tr>\n",
       "      <th>4</th>\n",
       "      <td>5</td>\n",
       "      <td>Angola</td>\n",
       "      <td>Meat of cattle, fresh or chilled (1kg)</td>\n",
       "      <td>10.84</td>\n",
       "      <td>12.43</td>\n",
       "      <td>14.67</td>\n",
       "      <td>$</td>\n",
       "      <td>9.68-15.61</td>\n",
       "      <td>2020-07-19T00:00:00</td>\n",
       "      <td>2020-07-19</td>\n",
       "    </tr>\n",
       "  </tbody>\n",
       "</table>\n",
       "</div>"
      ],
      "text/plain": [
       "   _id           country                                 food_type  \\\n",
       "0    1       Isle Of Man        Bread and other bakers wares (1kg)   \n",
       "1    2  Marshall Islands  Meat of chickens, fresh or chilled (1kg)   \n",
       "2    3       Timor-Leste                                Rice (1kg)   \n",
       "3    4      Burkina Faso                            Potatoes (1kg)   \n",
       "4    5            Angola    Meat of cattle, fresh or chilled (1kg)   \n",
       "\n",
       "   baseline_local  local_price  variation_local local_currency    local_range  \\\n",
       "0            2.80         2.89             3.21              £      1.61-3.99   \n",
       "1            4.45         4.45             0.00              $       4.41-4.5   \n",
       "2            1.88         1.92             2.13              $         0.75-3   \n",
       "3          682.00       682.00             0.00            CFA  600.01-763.99   \n",
       "4           10.84        12.43            14.67              $     9.68-15.61   \n",
       "\n",
       "                  Date        date  \n",
       "0  2020-07-19T00:00:00  2020-07-19  \n",
       "1  2020-07-19T00:00:00  2020-07-19  \n",
       "2  2020-07-19T00:00:00  2020-07-19  \n",
       "3  2020-07-19T00:00:00  2020-07-19  \n",
       "4  2020-07-19T00:00:00  2020-07-19  "
      ]
     },
     "execution_count": 10,
     "metadata": {},
     "output_type": "execute_result"
    }
   ],
   "source": [
    "df_drop.head()"
   ]
  },
  {
   "cell_type": "code",
   "execution_count": 11,
   "id": "b47a7466",
   "metadata": {},
   "outputs": [],
   "source": [
    "# drop 'Date'column, and finish wrangle this data frame.\n",
    "\n",
    "df_wrangled = df_drop.drop(columns = ['Date'])"
   ]
  },
  {
   "cell_type": "code",
   "execution_count": 12,
   "id": "f12ae2fb",
   "metadata": {},
   "outputs": [
    {
     "data": {
      "text/html": [
       "<div>\n",
       "<style scoped>\n",
       "    .dataframe tbody tr th:only-of-type {\n",
       "        vertical-align: middle;\n",
       "    }\n",
       "\n",
       "    .dataframe tbody tr th {\n",
       "        vertical-align: top;\n",
       "    }\n",
       "\n",
       "    .dataframe thead th {\n",
       "        text-align: right;\n",
       "    }\n",
       "</style>\n",
       "<table border=\"1\" class=\"dataframe\">\n",
       "  <thead>\n",
       "    <tr style=\"text-align: right;\">\n",
       "      <th></th>\n",
       "      <th>_id</th>\n",
       "      <th>country</th>\n",
       "      <th>food_type</th>\n",
       "      <th>baseline_local</th>\n",
       "      <th>local_price</th>\n",
       "      <th>variation_local</th>\n",
       "      <th>local_currency</th>\n",
       "      <th>local_range</th>\n",
       "      <th>date</th>\n",
       "    </tr>\n",
       "  </thead>\n",
       "  <tbody>\n",
       "    <tr>\n",
       "      <th>0</th>\n",
       "      <td>1</td>\n",
       "      <td>Isle Of Man</td>\n",
       "      <td>Bread and other bakers wares (1kg)</td>\n",
       "      <td>2.80</td>\n",
       "      <td>2.89</td>\n",
       "      <td>3.21</td>\n",
       "      <td>£</td>\n",
       "      <td>1.61-3.99</td>\n",
       "      <td>2020-07-19</td>\n",
       "    </tr>\n",
       "    <tr>\n",
       "      <th>1</th>\n",
       "      <td>2</td>\n",
       "      <td>Marshall Islands</td>\n",
       "      <td>Meat of chickens, fresh or chilled (1kg)</td>\n",
       "      <td>4.45</td>\n",
       "      <td>4.45</td>\n",
       "      <td>0.00</td>\n",
       "      <td>$</td>\n",
       "      <td>4.41-4.5</td>\n",
       "      <td>2020-07-19</td>\n",
       "    </tr>\n",
       "    <tr>\n",
       "      <th>2</th>\n",
       "      <td>3</td>\n",
       "      <td>Timor-Leste</td>\n",
       "      <td>Rice (1kg)</td>\n",
       "      <td>1.88</td>\n",
       "      <td>1.92</td>\n",
       "      <td>2.13</td>\n",
       "      <td>$</td>\n",
       "      <td>0.75-3</td>\n",
       "      <td>2020-07-19</td>\n",
       "    </tr>\n",
       "    <tr>\n",
       "      <th>3</th>\n",
       "      <td>4</td>\n",
       "      <td>Burkina Faso</td>\n",
       "      <td>Potatoes (1kg)</td>\n",
       "      <td>682.00</td>\n",
       "      <td>682.00</td>\n",
       "      <td>0.00</td>\n",
       "      <td>CFA</td>\n",
       "      <td>600.01-763.99</td>\n",
       "      <td>2020-07-19</td>\n",
       "    </tr>\n",
       "    <tr>\n",
       "      <th>4</th>\n",
       "      <td>5</td>\n",
       "      <td>Angola</td>\n",
       "      <td>Meat of cattle, fresh or chilled (1kg)</td>\n",
       "      <td>10.84</td>\n",
       "      <td>12.43</td>\n",
       "      <td>14.67</td>\n",
       "      <td>$</td>\n",
       "      <td>9.68-15.61</td>\n",
       "      <td>2020-07-19</td>\n",
       "    </tr>\n",
       "  </tbody>\n",
       "</table>\n",
       "</div>"
      ],
      "text/plain": [
       "   _id           country                                 food_type  \\\n",
       "0    1       Isle Of Man        Bread and other bakers wares (1kg)   \n",
       "1    2  Marshall Islands  Meat of chickens, fresh or chilled (1kg)   \n",
       "2    3       Timor-Leste                                Rice (1kg)   \n",
       "3    4      Burkina Faso                            Potatoes (1kg)   \n",
       "4    5            Angola    Meat of cattle, fresh or chilled (1kg)   \n",
       "\n",
       "   baseline_local  local_price  variation_local local_currency    local_range  \\\n",
       "0            2.80         2.89             3.21              £      1.61-3.99   \n",
       "1            4.45         4.45             0.00              $       4.41-4.5   \n",
       "2            1.88         1.92             2.13              $         0.75-3   \n",
       "3          682.00       682.00             0.00            CFA  600.01-763.99   \n",
       "4           10.84        12.43            14.67              $     9.68-15.61   \n",
       "\n",
       "         date  \n",
       "0  2020-07-19  \n",
       "1  2020-07-19  \n",
       "2  2020-07-19  \n",
       "3  2020-07-19  \n",
       "4  2020-07-19  "
      ]
     },
     "execution_count": 12,
     "metadata": {},
     "output_type": "execute_result"
    }
   ],
   "source": [
    "df_wrangled.head()"
   ]
  },
  {
   "cell_type": "markdown",
   "id": "7d561ca3",
   "metadata": {},
   "source": [
    "# Data Consistency Checks"
   ]
  },
  {
   "cell_type": "code",
   "execution_count": 14,
   "id": "1969f4f8",
   "metadata": {},
   "outputs": [
    {
     "name": "stdout",
     "output_type": "stream",
     "text": [
      "No mixed data types\n"
     ]
    }
   ],
   "source": [
    "# check mixed data types\n",
    "\n",
    "for col in df_wrangled.columns.tolist():\n",
    "    weird = (df_wrangled[[col]].applymap(type) != df_wrangled[[col]].iloc[0].apply(type)).any(axis = 1)\n",
    "if len (df_wrangled[weird]) > 0:\n",
    "    print (col)\n",
    "else:\n",
    "    print ('No mixed data types')"
   ]
  },
  {
   "cell_type": "code",
   "execution_count": 15,
   "id": "ba30ac7d",
   "metadata": {},
   "outputs": [
    {
     "data": {
      "text/plain": [
       "_id                0\n",
       "country            0\n",
       "food_type          0\n",
       "baseline_local     0\n",
       "local_price        0\n",
       "variation_local    0\n",
       "local_currency     0\n",
       "local_range        0\n",
       "date               0\n",
       "dtype: int64"
      ]
     },
     "execution_count": 15,
     "metadata": {},
     "output_type": "execute_result"
    }
   ],
   "source": [
    "# check missing values\n",
    "df_wrangled.isnull().sum()"
   ]
  },
  {
   "cell_type": "code",
   "execution_count": 16,
   "id": "1e6cb35e",
   "metadata": {},
   "outputs": [],
   "source": [
    "# check duplicates\n",
    "df_dups = df_wrangled[df_wrangled.duplicated()]"
   ]
  },
  {
   "cell_type": "code",
   "execution_count": 17,
   "id": "a04960c8",
   "metadata": {},
   "outputs": [
    {
     "data": {
      "text/plain": [
       "(50000, 9)"
      ]
     },
     "execution_count": 17,
     "metadata": {},
     "output_type": "execute_result"
    }
   ],
   "source": [
    "df_wrangled.shape"
   ]
  },
  {
   "cell_type": "code",
   "execution_count": 18,
   "id": "74034cf8",
   "metadata": {},
   "outputs": [
    {
     "data": {
      "text/plain": [
       "(0, 9)"
      ]
     },
     "execution_count": 18,
     "metadata": {},
     "output_type": "execute_result"
    }
   ],
   "source": [
    "df_dups.shape"
   ]
  },
  {
   "cell_type": "markdown",
   "id": "175e1ba4",
   "metadata": {},
   "source": [
    "# Export the clean data frame"
   ]
  },
  {
   "cell_type": "code",
   "execution_count": 19,
   "id": "bc72e2ea",
   "metadata": {},
   "outputs": [],
   "source": [
    "df_wrangled.to_csv(r'/Users/r1121/Desktop/CF/11-2023Food Price Project/Data/Modified/food_price_global_clean.csv')"
   ]
  },
  {
   "cell_type": "code",
   "execution_count": null,
   "id": "aea9cd8b",
   "metadata": {},
   "outputs": [],
   "source": []
  }
 ],
 "metadata": {
  "kernelspec": {
   "display_name": "Python 3 (ipykernel)",
   "language": "python",
   "name": "python3"
  },
  "language_info": {
   "codemirror_mode": {
    "name": "ipython",
    "version": 3
   },
   "file_extension": ".py",
   "mimetype": "text/x-python",
   "name": "python",
   "nbconvert_exporter": "python",
   "pygments_lexer": "ipython3",
   "version": "3.9.7"
  }
 },
 "nbformat": 4,
 "nbformat_minor": 5
}
