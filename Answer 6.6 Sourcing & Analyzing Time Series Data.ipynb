{
 "cells": [
  {
   "cell_type": "markdown",
   "id": "b7da769e",
   "metadata": {},
   "source": [
    "# Import libs and data"
   ]
  },
  {
   "cell_type": "code",
   "execution_count": 1,
   "id": "604026cc",
   "metadata": {},
   "outputs": [],
   "source": [
    "import pandas as pd\n",
    "import numpy as np\n",
    "import seaborn as sns\n",
    "import matplotlib\n",
    "import matplotlib.pyplot as plt\n",
    "import statsmodels.api as sm\n",
    "import warnings \n",
    "\n",
    "warnings.filterwarnings(\"ignore\") "
   ]
  },
  {
   "cell_type": "code",
   "execution_count": 2,
   "id": "4482b9c4",
   "metadata": {},
   "outputs": [],
   "source": [
    "df = pd.read_csv(r'/Users/r1121/Desktop/CF/11-2023Food Price Project/Data/Modified/food_price_global_varclean.csv', index_col=0)"
   ]
  },
  {
   "cell_type": "code",
   "execution_count": 3,
   "id": "b168e302",
   "metadata": {},
   "outputs": [
    {
     "data": {
      "text/html": [
       "<div>\n",
       "<style scoped>\n",
       "    .dataframe tbody tr th:only-of-type {\n",
       "        vertical-align: middle;\n",
       "    }\n",
       "\n",
       "    .dataframe tbody tr th {\n",
       "        vertical-align: top;\n",
       "    }\n",
       "\n",
       "    .dataframe thead th {\n",
       "        text-align: right;\n",
       "    }\n",
       "</style>\n",
       "<table border=\"1\" class=\"dataframe\">\n",
       "  <thead>\n",
       "    <tr style=\"text-align: right;\">\n",
       "      <th></th>\n",
       "      <th>_id</th>\n",
       "      <th>country</th>\n",
       "      <th>food_type</th>\n",
       "      <th>baseline_local</th>\n",
       "      <th>local_price</th>\n",
       "      <th>variation_local</th>\n",
       "      <th>local_currency</th>\n",
       "      <th>local_range</th>\n",
       "      <th>date</th>\n",
       "    </tr>\n",
       "  </thead>\n",
       "  <tbody>\n",
       "    <tr>\n",
       "      <th>0</th>\n",
       "      <td>1</td>\n",
       "      <td>Isle Of Man</td>\n",
       "      <td>Bread and other bakers wares (1kg)</td>\n",
       "      <td>2.80</td>\n",
       "      <td>2.89</td>\n",
       "      <td>3.21</td>\n",
       "      <td>£</td>\n",
       "      <td>1.61-3.99</td>\n",
       "      <td>2020-07-19</td>\n",
       "    </tr>\n",
       "    <tr>\n",
       "      <th>1</th>\n",
       "      <td>2</td>\n",
       "      <td>Marshall Islands</td>\n",
       "      <td>Meat of chickens, fresh or chilled (1kg)</td>\n",
       "      <td>4.45</td>\n",
       "      <td>4.45</td>\n",
       "      <td>0.00</td>\n",
       "      <td>$</td>\n",
       "      <td>4.41-4.5</td>\n",
       "      <td>2020-07-19</td>\n",
       "    </tr>\n",
       "    <tr>\n",
       "      <th>2</th>\n",
       "      <td>3</td>\n",
       "      <td>Timor-Leste</td>\n",
       "      <td>Rice (1kg)</td>\n",
       "      <td>1.88</td>\n",
       "      <td>1.92</td>\n",
       "      <td>2.13</td>\n",
       "      <td>$</td>\n",
       "      <td>0.75-3</td>\n",
       "      <td>2020-07-19</td>\n",
       "    </tr>\n",
       "    <tr>\n",
       "      <th>3</th>\n",
       "      <td>4</td>\n",
       "      <td>Burkina Faso</td>\n",
       "      <td>Potatoes (1kg)</td>\n",
       "      <td>682.00</td>\n",
       "      <td>682.00</td>\n",
       "      <td>0.00</td>\n",
       "      <td>CFA</td>\n",
       "      <td>600.01-763.99</td>\n",
       "      <td>2020-07-19</td>\n",
       "    </tr>\n",
       "    <tr>\n",
       "      <th>4</th>\n",
       "      <td>5</td>\n",
       "      <td>Angola</td>\n",
       "      <td>Meat of cattle, fresh or chilled (1kg)</td>\n",
       "      <td>10.84</td>\n",
       "      <td>12.43</td>\n",
       "      <td>14.67</td>\n",
       "      <td>$</td>\n",
       "      <td>9.68-15.61</td>\n",
       "      <td>2020-07-19</td>\n",
       "    </tr>\n",
       "    <tr>\n",
       "      <th>5</th>\n",
       "      <td>6</td>\n",
       "      <td>Burkina Faso</td>\n",
       "      <td>Lettuce and chicory (1head)</td>\n",
       "      <td>437.00</td>\n",
       "      <td>437.00</td>\n",
       "      <td>0.00</td>\n",
       "      <td>CFA</td>\n",
       "      <td>200.00-674.00</td>\n",
       "      <td>2020-07-19</td>\n",
       "    </tr>\n",
       "    <tr>\n",
       "      <th>6</th>\n",
       "      <td>7</td>\n",
       "      <td>Maldives</td>\n",
       "      <td>Meat of chickens, fresh or chilled (1kg)</td>\n",
       "      <td>63.27</td>\n",
       "      <td>63.76</td>\n",
       "      <td>0.77</td>\n",
       "      <td>Rf</td>\n",
       "      <td>47.99-85.01</td>\n",
       "      <td>2020-07-19</td>\n",
       "    </tr>\n",
       "    <tr>\n",
       "      <th>7</th>\n",
       "      <td>8</td>\n",
       "      <td>Lesotho</td>\n",
       "      <td>Hen eggs in shell (12)</td>\n",
       "      <td>24.53</td>\n",
       "      <td>27.00</td>\n",
       "      <td>10.07</td>\n",
       "      <td>R</td>\n",
       "      <td>24.00-30.00</td>\n",
       "      <td>2020-07-19</td>\n",
       "    </tr>\n",
       "    <tr>\n",
       "      <th>8</th>\n",
       "      <td>9</td>\n",
       "      <td>Senegal</td>\n",
       "      <td>Rice (1kg)</td>\n",
       "      <td>452.61</td>\n",
       "      <td>450.01</td>\n",
       "      <td>-0.57</td>\n",
       "      <td>CFA</td>\n",
       "      <td>350.01-500.01</td>\n",
       "      <td>2020-07-19</td>\n",
       "    </tr>\n",
       "    <tr>\n",
       "      <th>9</th>\n",
       "      <td>10</td>\n",
       "      <td>Mali</td>\n",
       "      <td>Hen eggs in shell (12)</td>\n",
       "      <td>1.52</td>\n",
       "      <td>1.86</td>\n",
       "      <td>22.37</td>\n",
       "      <td>$</td>\n",
       "      <td>1.01-2.04</td>\n",
       "      <td>2020-07-19</td>\n",
       "    </tr>\n",
       "    <tr>\n",
       "      <th>10</th>\n",
       "      <td>11</td>\n",
       "      <td>Turks And Caicos Islands</td>\n",
       "      <td>Lettuce and chicory (1head)</td>\n",
       "      <td>2.50</td>\n",
       "      <td>2.50</td>\n",
       "      <td>0.00</td>\n",
       "      <td>$</td>\n",
       "      <td>2.00-3.00</td>\n",
       "      <td>2020-07-19</td>\n",
       "    </tr>\n",
       "    <tr>\n",
       "      <th>11</th>\n",
       "      <td>12</td>\n",
       "      <td>Liberia</td>\n",
       "      <td>Bread and other bakers wares (1kg)</td>\n",
       "      <td>4.75</td>\n",
       "      <td>5.38</td>\n",
       "      <td>13.26</td>\n",
       "      <td>$</td>\n",
       "      <td>3.31-8.82</td>\n",
       "      <td>2020-07-19</td>\n",
       "    </tr>\n",
       "    <tr>\n",
       "      <th>12</th>\n",
       "      <td>13</td>\n",
       "      <td>Cayman Islands</td>\n",
       "      <td>Cheese, fresh or processed (1kg)</td>\n",
       "      <td>7.20</td>\n",
       "      <td>7.32</td>\n",
       "      <td>1.67</td>\n",
       "      <td>KY$</td>\n",
       "      <td>6-10.01</td>\n",
       "      <td>2020-07-19</td>\n",
       "    </tr>\n",
       "    <tr>\n",
       "      <th>13</th>\n",
       "      <td>14</td>\n",
       "      <td>Martinique</td>\n",
       "      <td>Processed liquid milk (1lt)</td>\n",
       "      <td>0.93</td>\n",
       "      <td>0.93</td>\n",
       "      <td>0.00</td>\n",
       "      <td>€</td>\n",
       "      <td>0.78-1.08</td>\n",
       "      <td>2020-07-19</td>\n",
       "    </tr>\n",
       "    <tr>\n",
       "      <th>14</th>\n",
       "      <td>15</td>\n",
       "      <td>Maldives</td>\n",
       "      <td>Potatoes (1kg)</td>\n",
       "      <td>20.92</td>\n",
       "      <td>20.66</td>\n",
       "      <td>-1.24</td>\n",
       "      <td>Rf</td>\n",
       "      <td>20-22</td>\n",
       "      <td>2020-07-19</td>\n",
       "    </tr>\n",
       "  </tbody>\n",
       "</table>\n",
       "</div>"
      ],
      "text/plain": [
       "    _id                   country                                 food_type  \\\n",
       "0     1               Isle Of Man        Bread and other bakers wares (1kg)   \n",
       "1     2          Marshall Islands  Meat of chickens, fresh or chilled (1kg)   \n",
       "2     3               Timor-Leste                                Rice (1kg)   \n",
       "3     4              Burkina Faso                            Potatoes (1kg)   \n",
       "4     5                    Angola    Meat of cattle, fresh or chilled (1kg)   \n",
       "5     6              Burkina Faso               Lettuce and chicory (1head)   \n",
       "6     7                  Maldives  Meat of chickens, fresh or chilled (1kg)   \n",
       "7     8                   Lesotho                    Hen eggs in shell (12)   \n",
       "8     9                   Senegal                                Rice (1kg)   \n",
       "9    10                      Mali                    Hen eggs in shell (12)   \n",
       "10   11  Turks And Caicos Islands               Lettuce and chicory (1head)   \n",
       "11   12                   Liberia        Bread and other bakers wares (1kg)   \n",
       "12   13            Cayman Islands          Cheese, fresh or processed (1kg)   \n",
       "13   14                Martinique               Processed liquid milk (1lt)   \n",
       "14   15                  Maldives                            Potatoes (1kg)   \n",
       "\n",
       "    baseline_local  local_price  variation_local local_currency  \\\n",
       "0             2.80         2.89             3.21              £   \n",
       "1             4.45         4.45             0.00              $   \n",
       "2             1.88         1.92             2.13              $   \n",
       "3           682.00       682.00             0.00            CFA   \n",
       "4            10.84        12.43            14.67              $   \n",
       "5           437.00       437.00             0.00            CFA   \n",
       "6            63.27        63.76             0.77             Rf   \n",
       "7            24.53        27.00            10.07              R   \n",
       "8           452.61       450.01            -0.57            CFA   \n",
       "9             1.52         1.86            22.37              $   \n",
       "10            2.50         2.50             0.00              $   \n",
       "11            4.75         5.38            13.26              $   \n",
       "12            7.20         7.32             1.67            KY$   \n",
       "13            0.93         0.93             0.00              €   \n",
       "14           20.92        20.66            -1.24             Rf   \n",
       "\n",
       "      local_range        date  \n",
       "0       1.61-3.99  2020-07-19  \n",
       "1        4.41-4.5  2020-07-19  \n",
       "2          0.75-3  2020-07-19  \n",
       "3   600.01-763.99  2020-07-19  \n",
       "4      9.68-15.61  2020-07-19  \n",
       "5   200.00-674.00  2020-07-19  \n",
       "6     47.99-85.01  2020-07-19  \n",
       "7     24.00-30.00  2020-07-19  \n",
       "8   350.01-500.01  2020-07-19  \n",
       "9       1.01-2.04  2020-07-19  \n",
       "10      2.00-3.00  2020-07-19  \n",
       "11      3.31-8.82  2020-07-19  \n",
       "12        6-10.01  2020-07-19  \n",
       "13      0.78-1.08  2020-07-19  \n",
       "14          20-22  2020-07-19  "
      ]
     },
     "execution_count": 3,
     "metadata": {},
     "output_type": "execute_result"
    }
   ],
   "source": [
    "df.head(15)"
   ]
  },
  {
   "cell_type": "markdown",
   "id": "ebf66875",
   "metadata": {},
   "source": [
    "# Make a subset that focus on orange price in Italy."
   ]
  },
  {
   "cell_type": "markdown",
   "id": "c622e32b",
   "metadata": {},
   "source": [
    "This data frame is about food price in over 180 countries on 2020. In order to study time series data, we picked orange price in Italy as the object. Since Italy is the main area for orange production in Europe, price variation in a year could be significant."
   ]
  },
  {
   "cell_type": "code",
   "execution_count": 4,
   "id": "260f112c",
   "metadata": {},
   "outputs": [],
   "source": [
    "data_sub = df.loc[(df['country'] == 'Italy')&(df['food_type']=='Orange (1kg)')]"
   ]
  },
  {
   "cell_type": "code",
   "execution_count": 5,
   "id": "6f4078e6",
   "metadata": {},
   "outputs": [
    {
     "data": {
      "text/html": [
       "<div>\n",
       "<style scoped>\n",
       "    .dataframe tbody tr th:only-of-type {\n",
       "        vertical-align: middle;\n",
       "    }\n",
       "\n",
       "    .dataframe tbody tr th {\n",
       "        vertical-align: top;\n",
       "    }\n",
       "\n",
       "    .dataframe thead th {\n",
       "        text-align: right;\n",
       "    }\n",
       "</style>\n",
       "<table border=\"1\" class=\"dataframe\">\n",
       "  <thead>\n",
       "    <tr style=\"text-align: right;\">\n",
       "      <th></th>\n",
       "      <th>_id</th>\n",
       "      <th>country</th>\n",
       "      <th>food_type</th>\n",
       "      <th>baseline_local</th>\n",
       "      <th>local_price</th>\n",
       "      <th>variation_local</th>\n",
       "      <th>local_currency</th>\n",
       "      <th>local_range</th>\n",
       "      <th>date</th>\n",
       "    </tr>\n",
       "  </thead>\n",
       "  <tbody>\n",
       "    <tr>\n",
       "      <th>27229</th>\n",
       "      <td>27230</td>\n",
       "      <td>Italy</td>\n",
       "      <td>Orange (1kg)</td>\n",
       "      <td>1.67</td>\n",
       "      <td>1.79</td>\n",
       "      <td>7.36</td>\n",
       "      <td>€</td>\n",
       "      <td>0.99-3</td>\n",
       "      <td>2020-07-19</td>\n",
       "    </tr>\n",
       "    <tr>\n",
       "      <th>27241</th>\n",
       "      <td>27242</td>\n",
       "      <td>Italy</td>\n",
       "      <td>Orange (1kg)</td>\n",
       "      <td>1.67</td>\n",
       "      <td>1.76</td>\n",
       "      <td>5.39</td>\n",
       "      <td>€</td>\n",
       "      <td>0.99-5.69</td>\n",
       "      <td>2020-04-05</td>\n",
       "    </tr>\n",
       "    <tr>\n",
       "      <th>27262</th>\n",
       "      <td>27263</td>\n",
       "      <td>Italy</td>\n",
       "      <td>Orange (1kg)</td>\n",
       "      <td>1.67</td>\n",
       "      <td>1.81</td>\n",
       "      <td>8.38</td>\n",
       "      <td>€</td>\n",
       "      <td>0.99-3</td>\n",
       "      <td>2021-04-04</td>\n",
       "    </tr>\n",
       "    <tr>\n",
       "      <th>27272</th>\n",
       "      <td>27273</td>\n",
       "      <td>Italy</td>\n",
       "      <td>Orange (1kg)</td>\n",
       "      <td>1.67</td>\n",
       "      <td>1.79</td>\n",
       "      <td>7.19</td>\n",
       "      <td>€</td>\n",
       "      <td>0.99-3</td>\n",
       "      <td>2020-07-05</td>\n",
       "    </tr>\n",
       "    <tr>\n",
       "      <th>27291</th>\n",
       "      <td>27292</td>\n",
       "      <td>Italy</td>\n",
       "      <td>Orange (1kg)</td>\n",
       "      <td>1.67</td>\n",
       "      <td>1.79</td>\n",
       "      <td>7.19</td>\n",
       "      <td>€</td>\n",
       "      <td>0.99-3</td>\n",
       "      <td>2020-08-16</td>\n",
       "    </tr>\n",
       "  </tbody>\n",
       "</table>\n",
       "</div>"
      ],
      "text/plain": [
       "         _id country     food_type  baseline_local  local_price  \\\n",
       "27229  27230   Italy  Orange (1kg)            1.67         1.79   \n",
       "27241  27242   Italy  Orange (1kg)            1.67         1.76   \n",
       "27262  27263   Italy  Orange (1kg)            1.67         1.81   \n",
       "27272  27273   Italy  Orange (1kg)            1.67         1.79   \n",
       "27291  27292   Italy  Orange (1kg)            1.67         1.79   \n",
       "\n",
       "       variation_local local_currency local_range        date  \n",
       "27229             7.36              €      0.99-3  2020-07-19  \n",
       "27241             5.39              €   0.99-5.69  2020-04-05  \n",
       "27262             8.38              €      0.99-3  2021-04-04  \n",
       "27272             7.19              €      0.99-3  2020-07-05  \n",
       "27291             7.19              €      0.99-3  2020-08-16  "
      ]
     },
     "execution_count": 5,
     "metadata": {},
     "output_type": "execute_result"
    }
   ],
   "source": [
    "data_sub.head()"
   ]
  },
  {
   "cell_type": "code",
   "execution_count": 6,
   "id": "afae64ea",
   "metadata": {},
   "outputs": [
    {
     "data": {
      "text/plain": [
       "(18, 9)"
      ]
     },
     "execution_count": 6,
     "metadata": {},
     "output_type": "execute_result"
    }
   ],
   "source": [
    "data_sub.shape"
   ]
  },
  {
   "cell_type": "code",
   "execution_count": 7,
   "id": "38f2c2c7",
   "metadata": {},
   "outputs": [],
   "source": [
    "# extract 'date' and 'variation_local' from data_sub to make a new dataframe for analyzing time series.\n",
    "\n",
    "df_oi = data_sub[['date','variation_local']]"
   ]
  },
  {
   "cell_type": "code",
   "execution_count": 8,
   "id": "25b616ed",
   "metadata": {},
   "outputs": [
    {
     "data": {
      "text/html": [
       "<div>\n",
       "<style scoped>\n",
       "    .dataframe tbody tr th:only-of-type {\n",
       "        vertical-align: middle;\n",
       "    }\n",
       "\n",
       "    .dataframe tbody tr th {\n",
       "        vertical-align: top;\n",
       "    }\n",
       "\n",
       "    .dataframe thead th {\n",
       "        text-align: right;\n",
       "    }\n",
       "</style>\n",
       "<table border=\"1\" class=\"dataframe\">\n",
       "  <thead>\n",
       "    <tr style=\"text-align: right;\">\n",
       "      <th></th>\n",
       "      <th>date</th>\n",
       "      <th>variation_local</th>\n",
       "    </tr>\n",
       "  </thead>\n",
       "  <tbody>\n",
       "    <tr>\n",
       "      <th>27229</th>\n",
       "      <td>2020-07-19</td>\n",
       "      <td>7.36</td>\n",
       "    </tr>\n",
       "    <tr>\n",
       "      <th>27241</th>\n",
       "      <td>2020-04-05</td>\n",
       "      <td>5.39</td>\n",
       "    </tr>\n",
       "    <tr>\n",
       "      <th>27262</th>\n",
       "      <td>2021-04-04</td>\n",
       "      <td>8.38</td>\n",
       "    </tr>\n",
       "    <tr>\n",
       "      <th>27272</th>\n",
       "      <td>2020-07-05</td>\n",
       "      <td>7.19</td>\n",
       "    </tr>\n",
       "    <tr>\n",
       "      <th>27291</th>\n",
       "      <td>2020-08-16</td>\n",
       "      <td>7.19</td>\n",
       "    </tr>\n",
       "  </tbody>\n",
       "</table>\n",
       "</div>"
      ],
      "text/plain": [
       "             date  variation_local\n",
       "27229  2020-07-19             7.36\n",
       "27241  2020-04-05             5.39\n",
       "27262  2021-04-04             8.38\n",
       "27272  2020-07-05             7.19\n",
       "27291  2020-08-16             7.19"
      ]
     },
     "execution_count": 8,
     "metadata": {},
     "output_type": "execute_result"
    }
   ],
   "source": [
    "df_oi.head()"
   ]
  },
  {
   "cell_type": "code",
   "execution_count": 9,
   "id": "036f0497",
   "metadata": {},
   "outputs": [
    {
     "data": {
      "text/plain": [
       "(18, 2)"
      ]
     },
     "execution_count": 9,
     "metadata": {},
     "output_type": "execute_result"
    }
   ],
   "source": [
    "df_oi.shape"
   ]
  },
  {
   "cell_type": "markdown",
   "id": "2e3f6b36",
   "metadata": {},
   "source": [
    "# Decompisition"
   ]
  },
  {
   "cell_type": "code",
   "execution_count": 10,
   "id": "d200a6c5",
   "metadata": {},
   "outputs": [
    {
     "data": {
      "text/html": [
       "<div>\n",
       "<style scoped>\n",
       "    .dataframe tbody tr th:only-of-type {\n",
       "        vertical-align: middle;\n",
       "    }\n",
       "\n",
       "    .dataframe tbody tr th {\n",
       "        vertical-align: top;\n",
       "    }\n",
       "\n",
       "    .dataframe thead th {\n",
       "        text-align: right;\n",
       "    }\n",
       "</style>\n",
       "<table border=\"1\" class=\"dataframe\">\n",
       "  <thead>\n",
       "    <tr style=\"text-align: right;\">\n",
       "      <th></th>\n",
       "      <th>variation_local</th>\n",
       "    </tr>\n",
       "    <tr>\n",
       "      <th>datetime</th>\n",
       "      <th></th>\n",
       "    </tr>\n",
       "  </thead>\n",
       "  <tbody>\n",
       "    <tr>\n",
       "      <th>2020-07-19</th>\n",
       "      <td>7.36</td>\n",
       "    </tr>\n",
       "    <tr>\n",
       "      <th>2020-04-05</th>\n",
       "      <td>5.39</td>\n",
       "    </tr>\n",
       "    <tr>\n",
       "      <th>2021-04-04</th>\n",
       "      <td>8.38</td>\n",
       "    </tr>\n",
       "    <tr>\n",
       "      <th>2020-07-05</th>\n",
       "      <td>7.19</td>\n",
       "    </tr>\n",
       "    <tr>\n",
       "      <th>2020-08-16</th>\n",
       "      <td>7.19</td>\n",
       "    </tr>\n",
       "  </tbody>\n",
       "</table>\n",
       "</div>"
      ],
      "text/plain": [
       "            variation_local\n",
       "datetime                   \n",
       "2020-07-19             7.36\n",
       "2020-04-05             5.39\n",
       "2021-04-04             8.38\n",
       "2020-07-05             7.19\n",
       "2020-08-16             7.19"
      ]
     },
     "execution_count": 10,
     "metadata": {},
     "output_type": "execute_result"
    }
   ],
   "source": [
    "# Set the \"Date\" column as the index\n",
    "\n",
    "from datetime import datetime\n",
    "\n",
    "df_oi['datetime'] = pd.to_datetime(df_oi['date']) # Create a datetime column from 'date'column.\n",
    "df_oi = df_oi.set_index('datetime') # Set the datetime as the index of the dataframe.\n",
    "df_oi.drop(['date'], axis=1, inplace=True) # Drop the 'date'column.\n",
    "df_oi.head()"
   ]
  },
  {
   "cell_type": "code",
   "execution_count": 11,
   "id": "fee5cc1a",
   "metadata": {},
   "outputs": [],
   "source": [
    "# sort the index to make a right plot.\n",
    "\n",
    "df_oi.sort_index(inplace=True)"
   ]
  },
  {
   "cell_type": "code",
   "execution_count": 12,
   "id": "4ae36f18",
   "metadata": {},
   "outputs": [
    {
     "data": {
      "text/html": [
       "<div>\n",
       "<style scoped>\n",
       "    .dataframe tbody tr th:only-of-type {\n",
       "        vertical-align: middle;\n",
       "    }\n",
       "\n",
       "    .dataframe tbody tr th {\n",
       "        vertical-align: top;\n",
       "    }\n",
       "\n",
       "    .dataframe thead th {\n",
       "        text-align: right;\n",
       "    }\n",
       "</style>\n",
       "<table border=\"1\" class=\"dataframe\">\n",
       "  <thead>\n",
       "    <tr style=\"text-align: right;\">\n",
       "      <th></th>\n",
       "      <th>variation_local</th>\n",
       "    </tr>\n",
       "    <tr>\n",
       "      <th>datetime</th>\n",
       "      <th></th>\n",
       "    </tr>\n",
       "  </thead>\n",
       "  <tbody>\n",
       "    <tr>\n",
       "      <th>2020-04-05</th>\n",
       "      <td>5.39</td>\n",
       "    </tr>\n",
       "    <tr>\n",
       "      <th>2020-05-03</th>\n",
       "      <td>5.49</td>\n",
       "    </tr>\n",
       "    <tr>\n",
       "      <th>2020-05-17</th>\n",
       "      <td>7.19</td>\n",
       "    </tr>\n",
       "    <tr>\n",
       "      <th>2020-06-14</th>\n",
       "      <td>7.19</td>\n",
       "    </tr>\n",
       "    <tr>\n",
       "      <th>2020-06-28</th>\n",
       "      <td>7.19</td>\n",
       "    </tr>\n",
       "  </tbody>\n",
       "</table>\n",
       "</div>"
      ],
      "text/plain": [
       "            variation_local\n",
       "datetime                   \n",
       "2020-04-05             5.39\n",
       "2020-05-03             5.49\n",
       "2020-05-17             7.19\n",
       "2020-06-14             7.19\n",
       "2020-06-28             7.19"
      ]
     },
     "execution_count": 12,
     "metadata": {},
     "output_type": "execute_result"
    }
   ],
   "source": [
    "df_oi.head()"
   ]
  },
  {
   "cell_type": "code",
   "execution_count": 13,
   "id": "3e1557ce",
   "metadata": {},
   "outputs": [
    {
     "data": {
      "text/plain": [
       "[<matplotlib.lines.Line2D at 0x7fec498a13a0>]"
      ]
     },
     "execution_count": 13,
     "metadata": {},
     "output_type": "execute_result"
    },
    {
     "data": {
      "image/png": "[encoded data removed]",
      "text/plain": [
       "<Figure size 1080x360 with 1 Axes>"
      ]
     },
     "metadata": {
      "needs_background": "light"
     },
     "output_type": "display_data"
    }
   ],
   "source": [
    "# Plot the new data set\n",
    "\n",
    "plt.figure(figsize=(15,5))\n",
    "plt.plot(df_oi)"
   ]
  },
  {
   "cell_type": "code",
   "execution_count": 14,
   "id": "4ebef5f3",
   "metadata": {},
   "outputs": [
    {
     "data": {
      "text/plain": [
       "variation_local    0\n",
       "dtype: int64"
      ]
     },
     "execution_count": 14,
     "metadata": {},
     "output_type": "execute_result"
    }
   ],
   "source": [
    "df_oi.isnull().sum()"
   ]
  },
  {
   "cell_type": "code",
   "execution_count": 15,
   "id": "a1d6d5a6",
   "metadata": {},
   "outputs": [
    {
     "data": {
      "text/plain": [
       "12"
      ]
     },
     "execution_count": 15,
     "metadata": {},
     "output_type": "execute_result"
    }
   ],
   "source": [
    "dup = df_oi.duplicated()\n",
    "dup.sum()\n",
    "\n",
    "# These are not duplicated values! They are just same number in different date."
   ]
  },
  {
   "cell_type": "code",
   "execution_count": 16,
   "id": "abedb482",
   "metadata": {
    "scrolled": false
   },
   "outputs": [],
   "source": [
    "decomposition = sm.tsa.seasonal_decompose(df_oi, model='additive', period=1)"
   ]
  },
  {
   "cell_type": "code",
   "execution_count": 17,
   "id": "8e44aad8",
   "metadata": {},
   "outputs": [],
   "source": [
    "from pylab import rcParams # This will define a fixed size for all special charts.\n",
    "\n",
    "rcParams['figure.figsize'] = 18, 7"
   ]
  },
  {
   "cell_type": "code",
   "execution_count": 18,
   "id": "a7faf91c",
   "metadata": {},
   "outputs": [
    {
     "data": {
      "image/png": "[encoded data removed]",
      "text/plain": [
       "<Figure size 1296x504 with 4 Axes>"
      ]
     },
     "metadata": {
      "needs_background": "light"
     },
     "output_type": "display_data"
    }
   ],
   "source": [
    "# Plot the separate components\n",
    "\n",
    "decomposition.plot()\n",
    "plt.show()"
   ]
  },
  {
   "cell_type": "markdown",
   "id": "971a0fd2",
   "metadata": {},
   "source": [
    "# Testing for stationarity-- Dicky-Fuller test"
   ]
  },
  {
   "cell_type": "markdown",
   "id": "dda91657",
   "metadata": {},
   "source": [
    "Null hypothesis: the data is not stationary.\n",
    "We need to reject the null hypothesis to confirm stationarity, then we can conduct time series analysis."
   ]
  },
  {
   "cell_type": "code",
   "execution_count": 19,
   "id": "053a2d5f",
   "metadata": {},
   "outputs": [
    {
     "name": "stdout",
     "output_type": "stream",
     "text": [
      "Dickey-Fuller Stationarity test:\n",
      "Test Statistic                 -2.366779\n",
      "p-value                         0.151333\n",
      "Number of Lags Used             0.000000\n",
      "Number of Observations Used    17.000000\n",
      "Critical Value (1%)            -3.889266\n",
      "Critical Value (5%)            -3.054358\n",
      "Critical Value (10%)           -2.666984\n",
      "dtype: float64\n"
     ]
    }
   ],
   "source": [
    "# Import the adfuller() function\n",
    "from statsmodels.tsa.stattools import adfuller\n",
    "\n",
    "def dickey_fuller(timeseries): \n",
    "    # Perform the Dickey-Fuller test:\n",
    "    print ('Dickey-Fuller Stationarity test:')\n",
    "    test = adfuller(timeseries, autolag='AIC')\n",
    "    result = pd.Series(test[0:4], index=['Test Statistic','p-value','Number of Lags Used','Number of Observations Used'])\n",
    "    for key,value in test[4].items():\n",
    "       result['Critical Value (%s)'%key] = value\n",
    "    print (result)\n",
    "\n",
    "# Apply the test using the function on the time series\n",
    "dickey_fuller(df_oi['variation_local'])"
   ]
  },
  {
   "cell_type": "markdown",
   "id": "ca718c5d",
   "metadata": {},
   "source": [
    "Test statistic is larger than critical value(5%), which means we cannot reject the null hypothesis in a significance level of 5 percent. p-value is much larger than 0.05, which means the test result is not significant."
   ]
  },
  {
   "cell_type": "code",
   "execution_count": 20,
   "id": "a94daa49",
   "metadata": {},
   "outputs": [
    {
     "data": {
      "image/png": "[encoded data removed]",
      "text/plain": [
       "<Figure size 1296x504 with 1 Axes>"
      ]
     },
     "metadata": {
      "needs_background": "light"
     },
     "output_type": "display_data"
    }
   ],
   "source": [
    "# Check out a plot of autocorrelations\n",
    "\n",
    "from statsmodels.graphics.tsaplots import plot_acf, plot_pacf \n",
    "\n",
    "plot_acf(df_oi)\n",
    "plt.show()"
   ]
  },
  {
   "cell_type": "markdown",
   "id": "ebaac18e",
   "metadata": {},
   "source": [
    "# Stationarizing the orange price data"
   ]
  },
  {
   "cell_type": "code",
   "execution_count": 21,
   "id": "3089a6dd",
   "metadata": {},
   "outputs": [],
   "source": [
    "data_diff = df_oi - df_oi.shift(1)"
   ]
  },
  {
   "cell_type": "code",
   "execution_count": 22,
   "id": "7f9e875d",
   "metadata": {},
   "outputs": [],
   "source": [
    "data_diff.dropna(inplace = True)"
   ]
  },
  {
   "cell_type": "code",
   "execution_count": 23,
   "id": "551df9eb",
   "metadata": {},
   "outputs": [
    {
     "data": {
      "text/html": [
       "<div>\n",
       "<style scoped>\n",
       "    .dataframe tbody tr th:only-of-type {\n",
       "        vertical-align: middle;\n",
       "    }\n",
       "\n",
       "    .dataframe tbody tr th {\n",
       "        vertical-align: top;\n",
       "    }\n",
       "\n",
       "    .dataframe thead th {\n",
       "        text-align: right;\n",
       "    }\n",
       "</style>\n",
       "<table border=\"1\" class=\"dataframe\">\n",
       "  <thead>\n",
       "    <tr style=\"text-align: right;\">\n",
       "      <th></th>\n",
       "      <th>variation_local</th>\n",
       "    </tr>\n",
       "    <tr>\n",
       "      <th>datetime</th>\n",
       "      <th></th>\n",
       "    </tr>\n",
       "  </thead>\n",
       "  <tbody>\n",
       "    <tr>\n",
       "      <th>2020-05-03</th>\n",
       "      <td>0.1</td>\n",
       "    </tr>\n",
       "    <tr>\n",
       "      <th>2020-05-17</th>\n",
       "      <td>1.7</td>\n",
       "    </tr>\n",
       "    <tr>\n",
       "      <th>2020-06-14</th>\n",
       "      <td>0.0</td>\n",
       "    </tr>\n",
       "    <tr>\n",
       "      <th>2020-06-28</th>\n",
       "      <td>0.0</td>\n",
       "    </tr>\n",
       "    <tr>\n",
       "      <th>2020-07-05</th>\n",
       "      <td>0.0</td>\n",
       "    </tr>\n",
       "  </tbody>\n",
       "</table>\n",
       "</div>"
      ],
      "text/plain": [
       "            variation_local\n",
       "datetime                   \n",
       "2020-05-03              0.1\n",
       "2020-05-17              1.7\n",
       "2020-06-14              0.0\n",
       "2020-06-28              0.0\n",
       "2020-07-05              0.0"
      ]
     },
     "execution_count": 23,
     "metadata": {},
     "output_type": "execute_result"
    }
   ],
   "source": [
    "data_diff.head()"
   ]
  },
  {
   "cell_type": "code",
   "execution_count": 24,
   "id": "70f4b424",
   "metadata": {},
   "outputs": [
    {
     "data": {
      "text/plain": [
       "Index(['variation_local'], dtype='object')"
      ]
     },
     "execution_count": 24,
     "metadata": {},
     "output_type": "execute_result"
    }
   ],
   "source": [
    "data_diff.columns"
   ]
  },
  {
   "cell_type": "code",
   "execution_count": 25,
   "id": "99d73054",
   "metadata": {},
   "outputs": [
    {
     "data": {
      "text/plain": [
       "[<matplotlib.lines.Line2D at 0x7fec4994e1f0>]"
      ]
     },
     "execution_count": 25,
     "metadata": {},
     "output_type": "execute_result"
    },
    {
     "data": {
      "image/png": "[encoded data removed]",
      "text/plain": [
       "<Figure size 1500x500 with 1 Axes>"
      ]
     },
     "metadata": {
      "needs_background": "light"
     },
     "output_type": "display_data"
    }
   ],
   "source": [
    "# Check out what the differencing did to the time-series curve\n",
    "\n",
    "plt.figure(figsize=(15,5), dpi=100)\n",
    "plt.plot(data_diff)"
   ]
  },
  {
   "cell_type": "code",
   "execution_count": 26,
   "id": "43df3e30",
   "metadata": {},
   "outputs": [
    {
     "name": "stdout",
     "output_type": "stream",
     "text": [
      "Dickey-Fuller Stationarity test:\n",
      "Test Statistic                 -3.978080\n",
      "p-value                         0.001530\n",
      "Number of Lags Used             0.000000\n",
      "Number of Observations Used    16.000000\n",
      "Critical Value (1%)            -3.924019\n",
      "Critical Value (5%)            -3.068498\n",
      "Critical Value (10%)           -2.673893\n",
      "dtype: float64\n"
     ]
    }
   ],
   "source": [
    "dickey_fuller(data_diff)"
   ]
  },
  {
   "cell_type": "code",
   "execution_count": 27,
   "id": "b1d2cb12",
   "metadata": {},
   "outputs": [
    {
     "data": {
      "image/png": "[encoded data removed]",
      "text/plain": [
       "<Figure size 1296x504 with 1 Axes>"
      ]
     },
     "metadata": {
      "needs_background": "light"
     },
     "output_type": "display_data"
    }
   ],
   "source": [
    "plot_acf(data_diff)\n",
    "plt.show()"
   ]
  },
  {
   "cell_type": "markdown",
   "id": "844f0aeb",
   "metadata": {},
   "source": [
    "From Dicky-Fuller test, test statistic is smaller than critical value(5%), p-value is smaller than 0.05. That means the new data is stationary."
   ]
  },
  {
   "cell_type": "code",
   "execution_count": null,
   "id": "c67ab5e5",
   "metadata": {},
   "outputs": [],
   "source": []
  }
 ],
 "metadata": {
  "kernelspec": {
   "display_name": "Python 3 (ipykernel)",
   "language": "python",
   "name": "python3"
  },
  "language_info": {
   "codemirror_mode": {
    "name": "ipython",
    "version": 3
   },
   "file_extension": ".py",
   "mimetype": "text/x-python",
   "name": "python",
   "nbconvert_exporter": "python",
   "pygments_lexer": "ipython3",
   "version": "3.9.7"
  }
 },
 "nbformat": 4,
 "nbformat_minor": 5
}
